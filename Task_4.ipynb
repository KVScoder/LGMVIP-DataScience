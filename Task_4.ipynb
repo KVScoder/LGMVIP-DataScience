{
  "nbformat": 4,
  "nbformat_minor": 0,
  "metadata": {
    "colab": {
      "name": "Task-4.ipynb",
      "provenance": [],
      "collapsed_sections": [],
      "authorship_tag": "ABX9TyNmJ2kWHpF0iu2q2E3Y1nrj"
    },
    "kernelspec": {
      "name": "python3",
      "display_name": "Python 3"
    },
    "language_info": {
      "name": "python"
    }
  },
  "cells": [
    {
      "cell_type": "markdown",
      "metadata": {
        "id": "SFAg0XpZDDDz"
      },
      "source": [
        "# **Let's Grow More - Data Science Internship**\n",
        "**Task-4 : Exploratory Data Analysis on Dataset - Terrorism**\n",
        "\n",
        "---\n",
        "\n",
        "**Description**:\n",
        "\n",
        "As a security/defense analyst, try to find out the hot zone of terrorism.\n",
        "\n",
        "\n",
        "**Dataset-Link: https://bit.ly/2TK5Xn5**"
      ]
    },
    {
      "cell_type": "code",
      "metadata": {
        "id": "5_K5RtAvC_wY"
      },
      "source": [
        "import pandas as pd"
      ],
      "execution_count": 1,
      "outputs": []
    },
    {
      "cell_type": "code",
      "metadata": {
        "id": "L-dom_doMPD6",
        "colab": {
          "base_uri": "https://localhost:8080/"
        },
        "outputId": "7786975a-6e03-4f24-f1e4-de3966d9a03c"
      },
      "source": [
        "df = pd.read_csv('globalterrorismdb_0718dist.csv', encoding='latin1')"
      ],
      "execution_count": 3,
      "outputs": [
        {
          "output_type": "stream",
          "name": "stderr",
          "text": [
            "/usr/local/lib/python3.7/dist-packages/IPython/core/interactiveshell.py:2718: DtypeWarning: Columns (4,31,33,76,94,96,114,121) have mixed types.Specify dtype option on import or set low_memory=False.\n",
            "  interactivity=interactivity, compiler=compiler, result=result)\n"
          ]
        }
      ]
    },
    {
      "cell_type": "code",
      "metadata": {
        "id": "JujlHp8FHNSd",
        "colab": {
          "base_uri": "https://localhost:8080/"
        },
        "outputId": "c2a7c80d-7922-4380-f476-ab06f5974813"
      },
      "source": [
        "print(df.head())\n",
        "print(df.tail())"
      ],
      "execution_count": 4,
      "outputs": [
        {
          "output_type": "stream",
          "name": "stdout",
          "text": [
            "        eventid  iyear  imonth  iday  ... INT_IDEO  INT_MISC INT_ANY  related\n",
            "0  197000000001   1970       7     2  ...      0.0       0.0     0.0      NaN\n",
            "1  197000000002   1970       0     0  ...      1.0       1.0     1.0      NaN\n",
            "2  197001000001   1970       1     0  ...     -9.0       1.0     1.0      NaN\n",
            "3  197001000002   1970       1     0  ...     -9.0       1.0     1.0      NaN\n",
            "4  197001000003   1970       1     0  ...     -9.0       1.0     1.0      NaN\n",
            "\n",
            "[5 rows x 135 columns]\n",
            "            eventid  iyear  imonth  iday  ... INT_IDEO  INT_MISC INT_ANY  related\n",
            "16576  198207150003   1982       7    15  ...     -9.0       1.0     1.0      NaN\n",
            "16577  198207150004   1982       7    15  ...     -9.0       0.0    -9.0      NaN\n",
            "16578  198207150005   1982       7    15  ...      0.0       0.0     0.0      NaN\n",
            "16579  198207150006   1982       7    15  ...     -9.0       0.0    -9.0      NaN\n",
            "16580  198207160001   1982       7    16  ...      NaN       NaN     NaN      NaN\n",
            "\n",
            "[5 rows x 135 columns]\n"
          ]
        }
      ]
    },
    {
      "cell_type": "markdown",
      "metadata": {
        "id": "Bk2JNU6mHWbP"
      },
      "source": [
        "# **Shape of Dataset**"
      ]
    },
    {
      "cell_type": "code",
      "metadata": {
        "id": "gz8jcf4KHdP5",
        "colab": {
          "base_uri": "https://localhost:8080/"
        },
        "outputId": "c8382519-4c7e-4292-eda4-5548a35c2477"
      },
      "source": [
        "df.shape   # It shows total no. of rows & columns in dataset."
      ],
      "execution_count": 5,
      "outputs": [
        {
          "output_type": "execute_result",
          "data": {
            "text/plain": [
              "(16581, 135)"
            ]
          },
          "metadata": {},
          "execution_count": 5
        }
      ]
    },
    {
      "cell_type": "markdown",
      "metadata": {
        "id": "Wk60qNgvHoLu"
      },
      "source": [
        "# **Name of 135 columns**"
      ]
    },
    {
      "cell_type": "code",
      "metadata": {
        "id": "GkZRkFDAHuF9",
        "colab": {
          "base_uri": "https://localhost:8080/"
        },
        "outputId": "9853efa5-f35e-46fa-cfd4-be0ddead7409"
      },
      "source": [
        "df.columns.values"
      ],
      "execution_count": 6,
      "outputs": [
        {
          "output_type": "execute_result",
          "data": {
            "text/plain": [
              "array(['eventid', 'iyear', 'imonth', 'iday', 'approxdate', 'extended',\n",
              "       'resolution', 'country', 'country_txt', 'region', 'region_txt',\n",
              "       'provstate', 'city', 'latitude', 'longitude', 'specificity',\n",
              "       'vicinity', 'location', 'summary', 'crit1', 'crit2', 'crit3',\n",
              "       'doubtterr', 'alternative', 'alternative_txt', 'multiple',\n",
              "       'success', 'suicide', 'attacktype1', 'attacktype1_txt',\n",
              "       'attacktype2', 'attacktype2_txt', 'attacktype3', 'attacktype3_txt',\n",
              "       'targtype1', 'targtype1_txt', 'targsubtype1', 'targsubtype1_txt',\n",
              "       'corp1', 'target1', 'natlty1', 'natlty1_txt', 'targtype2',\n",
              "       'targtype2_txt', 'targsubtype2', 'targsubtype2_txt', 'corp2',\n",
              "       'target2', 'natlty2', 'natlty2_txt', 'targtype3', 'targtype3_txt',\n",
              "       'targsubtype3', 'targsubtype3_txt', 'corp3', 'target3', 'natlty3',\n",
              "       'natlty3_txt', 'gname', 'gsubname', 'gname2', 'gsubname2',\n",
              "       'gname3', 'gsubname3', 'motive', 'guncertain1', 'guncertain2',\n",
              "       'guncertain3', 'individual', 'nperps', 'nperpcap', 'claimed',\n",
              "       'claimmode', 'claimmode_txt', 'claim2', 'claimmode2',\n",
              "       'claimmode2_txt', 'claim3', 'claimmode3', 'claimmode3_txt',\n",
              "       'compclaim', 'weaptype1', 'weaptype1_txt', 'weapsubtype1',\n",
              "       'weapsubtype1_txt', 'weaptype2', 'weaptype2_txt', 'weapsubtype2',\n",
              "       'weapsubtype2_txt', 'weaptype3', 'weaptype3_txt', 'weapsubtype3',\n",
              "       'weapsubtype3_txt', 'weaptype4', 'weaptype4_txt', 'weapsubtype4',\n",
              "       'weapsubtype4_txt', 'weapdetail', 'nkill', 'nkillus', 'nkillter',\n",
              "       'nwound', 'nwoundus', 'nwoundte', 'property', 'propextent',\n",
              "       'propextent_txt', 'propvalue', 'propcomment', 'ishostkid',\n",
              "       'nhostkid', 'nhostkidus', 'nhours', 'ndays', 'divert',\n",
              "       'kidhijcountry', 'ransom', 'ransomamt', 'ransomamtus',\n",
              "       'ransompaid', 'ransompaidus', 'ransomnote', 'hostkidoutcome',\n",
              "       'hostkidoutcome_txt', 'nreleased', 'addnotes', 'scite1', 'scite2',\n",
              "       'scite3', 'dbsource', 'INT_LOG', 'INT_IDEO', 'INT_MISC', 'INT_ANY',\n",
              "       'related'], dtype=object)"
            ]
          },
          "metadata": {},
          "execution_count": 6
        }
      ]
    },
    {
      "cell_type": "markdown",
      "metadata": {
        "id": "Gm7_1DkwHykj"
      },
      "source": [
        "# **Unique elements in Dataset**"
      ]
    },
    {
      "cell_type": "code",
      "metadata": {
        "id": "14P6dSr2H6jQ",
        "colab": {
          "base_uri": "https://localhost:8080/"
        },
        "outputId": "5a857192-6ba4-49aa-dd56-09cd570dc53b"
      },
      "source": [
        "df.nunique()"
      ],
      "execution_count": 7,
      "outputs": [
        {
          "output_type": "execute_result",
          "data": {
            "text/plain": [
              "eventid       16581\n",
              "iyear            14\n",
              "imonth           13\n",
              "iday             32\n",
              "approxdate       19\n",
              "              ...  \n",
              "INT_LOG           3\n",
              "INT_IDEO          3\n",
              "INT_MISC          3\n",
              "INT_ANY           3\n",
              "related         149\n",
              "Length: 135, dtype: int64"
            ]
          },
          "metadata": {},
          "execution_count": 7
        }
      ]
    },
    {
      "cell_type": "markdown",
      "metadata": {
        "id": "qpkGC411H_ut"
      },
      "source": [
        "# **Null values in Dataset**"
      ]
    },
    {
      "cell_type": "code",
      "metadata": {
        "id": "eT9Ljcu5IIvS",
        "colab": {
          "base_uri": "https://localhost:8080/"
        },
        "outputId": "bd10c133-ce79-4355-ba71-7c7d466f2a22"
      },
      "source": [
        "df.isnull().sum()"
      ],
      "execution_count": 8,
      "outputs": [
        {
          "output_type": "execute_result",
          "data": {
            "text/plain": [
              "eventid           0\n",
              "iyear             0\n",
              "imonth            0\n",
              "iday              0\n",
              "approxdate    16560\n",
              "              ...  \n",
              "INT_LOG           1\n",
              "INT_IDEO          1\n",
              "INT_MISC          1\n",
              "INT_ANY           1\n",
              "related       15876\n",
              "Length: 135, dtype: int64"
            ]
          },
          "metadata": {},
          "execution_count": 8
        }
      ]
    },
    {
      "cell_type": "markdown",
      "metadata": {
        "id": "gdPqSIrdIV1b"
      },
      "source": [
        "# **Info of Dataset**"
      ]
    },
    {
      "cell_type": "code",
      "metadata": {
        "id": "iTLq7VJPIYG0",
        "colab": {
          "base_uri": "https://localhost:8080/"
        },
        "outputId": "56fa187e-2c2c-4929-8ee4-fcab85867d3d"
      },
      "source": [
        "df.info()"
      ],
      "execution_count": 9,
      "outputs": [
        {
          "output_type": "stream",
          "name": "stdout",
          "text": [
            "<class 'pandas.core.frame.DataFrame'>\n",
            "RangeIndex: 16581 entries, 0 to 16580\n",
            "Columns: 135 entries, eventid to related\n",
            "dtypes: float64(63), int64(18), object(54)\n",
            "memory usage: 17.1+ MB\n"
          ]
        }
      ]
    },
    {
      "cell_type": "markdown",
      "metadata": {
        "id": "cb5MnrecIhtg"
      },
      "source": [
        "# **Describing Dataset**"
      ]
    },
    {
      "cell_type": "code",
      "metadata": {
        "id": "_zFxoJpgIliT",
        "colab": {
          "base_uri": "https://localhost:8080/",
          "height": 346
        },
        "outputId": "9049e500-25f6-4c5c-88fc-b130bce07393"
      },
      "source": [
        "df.describe()"
      ],
      "execution_count": 10,
      "outputs": [
        {
          "output_type": "execute_result",
          "data": {
            "text/html": [
              "<div>\n",
              "<style scoped>\n",
              "    .dataframe tbody tr th:only-of-type {\n",
              "        vertical-align: middle;\n",
              "    }\n",
              "\n",
              "    .dataframe tbody tr th {\n",
              "        vertical-align: top;\n",
              "    }\n",
              "\n",
              "    .dataframe thead th {\n",
              "        text-align: right;\n",
              "    }\n",
              "</style>\n",
              "<table border=\"1\" class=\"dataframe\">\n",
              "  <thead>\n",
              "    <tr style=\"text-align: right;\">\n",
              "      <th></th>\n",
              "      <th>eventid</th>\n",
              "      <th>iyear</th>\n",
              "      <th>imonth</th>\n",
              "      <th>iday</th>\n",
              "      <th>extended</th>\n",
              "      <th>country</th>\n",
              "      <th>region</th>\n",
              "      <th>latitude</th>\n",
              "      <th>longitude</th>\n",
              "      <th>specificity</th>\n",
              "      <th>vicinity</th>\n",
              "      <th>crit1</th>\n",
              "      <th>crit2</th>\n",
              "      <th>crit3</th>\n",
              "      <th>doubtterr</th>\n",
              "      <th>alternative</th>\n",
              "      <th>multiple</th>\n",
              "      <th>success</th>\n",
              "      <th>suicide</th>\n",
              "      <th>attacktype1</th>\n",
              "      <th>attacktype2</th>\n",
              "      <th>attacktype3</th>\n",
              "      <th>targtype1</th>\n",
              "      <th>targsubtype1</th>\n",
              "      <th>natlty1</th>\n",
              "      <th>targtype2</th>\n",
              "      <th>targsubtype2</th>\n",
              "      <th>natlty2</th>\n",
              "      <th>targtype3</th>\n",
              "      <th>targsubtype3</th>\n",
              "      <th>natlty3</th>\n",
              "      <th>gsubname2</th>\n",
              "      <th>gname3</th>\n",
              "      <th>gsubname3</th>\n",
              "      <th>guncertain1</th>\n",
              "      <th>guncertain2</th>\n",
              "      <th>guncertain3</th>\n",
              "      <th>individual</th>\n",
              "      <th>nperps</th>\n",
              "      <th>nperpcap</th>\n",
              "      <th>...</th>\n",
              "      <th>claimmode</th>\n",
              "      <th>claim2</th>\n",
              "      <th>claimmode2</th>\n",
              "      <th>claim3</th>\n",
              "      <th>claimmode3</th>\n",
              "      <th>claimmode3_txt</th>\n",
              "      <th>compclaim</th>\n",
              "      <th>weaptype1</th>\n",
              "      <th>weapsubtype1</th>\n",
              "      <th>weaptype2</th>\n",
              "      <th>weapsubtype2</th>\n",
              "      <th>weaptype3</th>\n",
              "      <th>weapsubtype3</th>\n",
              "      <th>weaptype4</th>\n",
              "      <th>weapsubtype4</th>\n",
              "      <th>nkill</th>\n",
              "      <th>nkillus</th>\n",
              "      <th>nkillter</th>\n",
              "      <th>nwound</th>\n",
              "      <th>nwoundus</th>\n",
              "      <th>nwoundte</th>\n",
              "      <th>property</th>\n",
              "      <th>propextent</th>\n",
              "      <th>propvalue</th>\n",
              "      <th>ishostkid</th>\n",
              "      <th>nhostkid</th>\n",
              "      <th>nhostkidus</th>\n",
              "      <th>nhours</th>\n",
              "      <th>ndays</th>\n",
              "      <th>ransom</th>\n",
              "      <th>ransomamt</th>\n",
              "      <th>ransomamtus</th>\n",
              "      <th>ransompaid</th>\n",
              "      <th>ransompaidus</th>\n",
              "      <th>hostkidoutcome</th>\n",
              "      <th>nreleased</th>\n",
              "      <th>INT_LOG</th>\n",
              "      <th>INT_IDEO</th>\n",
              "      <th>INT_MISC</th>\n",
              "      <th>INT_ANY</th>\n",
              "    </tr>\n",
              "  </thead>\n",
              "  <tbody>\n",
              "    <tr>\n",
              "      <th>count</th>\n",
              "      <td>1.658100e+04</td>\n",
              "      <td>16581.000000</td>\n",
              "      <td>16581.000000</td>\n",
              "      <td>16581.000000</td>\n",
              "      <td>16581.000000</td>\n",
              "      <td>16581.000000</td>\n",
              "      <td>16581.000000</td>\n",
              "      <td>15975.000000</td>\n",
              "      <td>15975.000000</td>\n",
              "      <td>16581.000000</td>\n",
              "      <td>16581.000000</td>\n",
              "      <td>16581.000000</td>\n",
              "      <td>16581.000000</td>\n",
              "      <td>16581.000000</td>\n",
              "      <td>16581.000000</td>\n",
              "      <td>2299.000000</td>\n",
              "      <td>16581.000000</td>\n",
              "      <td>16581.000000</td>\n",
              "      <td>16581.000000</td>\n",
              "      <td>16581.000000</td>\n",
              "      <td>26.000000</td>\n",
              "      <td>2.000000</td>\n",
              "      <td>16581.000000</td>\n",
              "      <td>15612.000000</td>\n",
              "      <td>16530.000000</td>\n",
              "      <td>218.000000</td>\n",
              "      <td>157.000000</td>\n",
              "      <td>189.000000</td>\n",
              "      <td>27.000000</td>\n",
              "      <td>17.000000</td>\n",
              "      <td>27.000000</td>\n",
              "      <td>0.0</td>\n",
              "      <td>0.0</td>\n",
              "      <td>0.0</td>\n",
              "      <td>16580.000000</td>\n",
              "      <td>35.000000</td>\n",
              "      <td>0.0</td>\n",
              "      <td>16580.000000</td>\n",
              "      <td>3384.000000</td>\n",
              "      <td>934.000000</td>\n",
              "      <td>...</td>\n",
              "      <td>238.000000</td>\n",
              "      <td>9.000000</td>\n",
              "      <td>8.000000</td>\n",
              "      <td>0.0</td>\n",
              "      <td>0.0</td>\n",
              "      <td>0.0</td>\n",
              "      <td>18.000000</td>\n",
              "      <td>16580.000000</td>\n",
              "      <td>13343.000000</td>\n",
              "      <td>1038.000000</td>\n",
              "      <td>878.000000</td>\n",
              "      <td>145.000000</td>\n",
              "      <td>126.000000</td>\n",
              "      <td>25.00000</td>\n",
              "      <td>22.000000</td>\n",
              "      <td>13830.000000</td>\n",
              "      <td>1369.000000</td>\n",
              "      <td>1458.000000</td>\n",
              "      <td>12406.000000</td>\n",
              "      <td>1339.000000</td>\n",
              "      <td>1321.000000</td>\n",
              "      <td>16580.000000</td>\n",
              "      <td>7652.000000</td>\n",
              "      <td>3.803000e+03</td>\n",
              "      <td>16415.000000</td>\n",
              "      <td>1393.000000</td>\n",
              "      <td>1393.000000</td>\n",
              "      <td>403.000000</td>\n",
              "      <td>289.000000</td>\n",
              "      <td>16316.000000</td>\n",
              "      <td>4.170000e+02</td>\n",
              "      <td>1.0</td>\n",
              "      <td>8.800000e+01</td>\n",
              "      <td>1.0</td>\n",
              "      <td>638.000000</td>\n",
              "      <td>486.000000</td>\n",
              "      <td>16580.000000</td>\n",
              "      <td>16580.000000</td>\n",
              "      <td>16580.000000</td>\n",
              "      <td>16580.000000</td>\n",
              "    </tr>\n",
              "    <tr>\n",
              "      <th>mean</th>\n",
              "      <td>1.978029e+11</td>\n",
              "      <td>1977.966045</td>\n",
              "      <td>6.201978</td>\n",
              "      <td>15.155962</td>\n",
              "      <td>0.020445</td>\n",
              "      <td>183.120258</td>\n",
              "      <td>5.524878</td>\n",
              "      <td>27.875821</td>\n",
              "      <td>-28.932087</td>\n",
              "      <td>1.253543</td>\n",
              "      <td>0.010494</td>\n",
              "      <td>0.988481</td>\n",
              "      <td>0.990531</td>\n",
              "      <td>0.890477</td>\n",
              "      <td>-1.554912</td>\n",
              "      <td>1.269682</td>\n",
              "      <td>0.042579</td>\n",
              "      <td>0.907665</td>\n",
              "      <td>0.000060</td>\n",
              "      <td>3.166757</td>\n",
              "      <td>4.884615</td>\n",
              "      <td>3.000000</td>\n",
              "      <td>6.913938</td>\n",
              "      <td>40.849154</td>\n",
              "      <td>140.546038</td>\n",
              "      <td>9.389908</td>\n",
              "      <td>50.159236</td>\n",
              "      <td>169.031746</td>\n",
              "      <td>8.444444</td>\n",
              "      <td>53.176471</td>\n",
              "      <td>138.074074</td>\n",
              "      <td>NaN</td>\n",
              "      <td>NaN</td>\n",
              "      <td>NaN</td>\n",
              "      <td>0.041737</td>\n",
              "      <td>0.342857</td>\n",
              "      <td>NaN</td>\n",
              "      <td>0.002413</td>\n",
              "      <td>-11.666076</td>\n",
              "      <td>-80.271949</td>\n",
              "      <td>...</td>\n",
              "      <td>4.399160</td>\n",
              "      <td>0.888889</td>\n",
              "      <td>2.750000</td>\n",
              "      <td>NaN</td>\n",
              "      <td>NaN</td>\n",
              "      <td>NaN</td>\n",
              "      <td>0.444444</td>\n",
              "      <td>6.639867</td>\n",
              "      <td>10.637113</td>\n",
              "      <td>6.364162</td>\n",
              "      <td>9.586560</td>\n",
              "      <td>6.179310</td>\n",
              "      <td>6.595238</td>\n",
              "      <td>6.08000</td>\n",
              "      <td>8.772727</td>\n",
              "      <td>1.400362</td>\n",
              "      <td>0.174580</td>\n",
              "      <td>0.353224</td>\n",
              "      <td>1.313074</td>\n",
              "      <td>0.373413</td>\n",
              "      <td>0.062074</td>\n",
              "      <td>0.617793</td>\n",
              "      <td>3.453999</td>\n",
              "      <td>1.858951e+05</td>\n",
              "      <td>0.084861</td>\n",
              "      <td>-12.320890</td>\n",
              "      <td>0.222541</td>\n",
              "      <td>7.361663</td>\n",
              "      <td>26.937716</td>\n",
              "      <td>0.025619</td>\n",
              "      <td>3.793429e+06</td>\n",
              "      <td>20000.0</td>\n",
              "      <td>1.351280e+06</td>\n",
              "      <td>0.0</td>\n",
              "      <td>2.888715</td>\n",
              "      <td>8.341564</td>\n",
              "      <td>-3.738118</td>\n",
              "      <td>-3.693667</td>\n",
              "      <td>0.263450</td>\n",
              "      <td>-2.668034</td>\n",
              "    </tr>\n",
              "    <tr>\n",
              "      <th>std</th>\n",
              "      <td>3.266916e+08</td>\n",
              "      <td>3.270107</td>\n",
              "      <td>3.415697</td>\n",
              "      <td>8.949768</td>\n",
              "      <td>0.141521</td>\n",
              "      <td>170.441089</td>\n",
              "      <td>3.372000</td>\n",
              "      <td>22.109249</td>\n",
              "      <td>55.936993</td>\n",
              "      <td>0.905089</td>\n",
              "      <td>0.101904</td>\n",
              "      <td>0.106711</td>\n",
              "      <td>0.096848</td>\n",
              "      <td>0.312304</td>\n",
              "      <td>3.600439</td>\n",
              "      <td>0.560056</td>\n",
              "      <td>0.201912</td>\n",
              "      <td>0.289506</td>\n",
              "      <td>0.007766</td>\n",
              "      <td>2.010886</td>\n",
              "      <td>2.454823</td>\n",
              "      <td>1.414214</td>\n",
              "      <td>6.249739</td>\n",
              "      <td>30.686157</td>\n",
              "      <td>79.496539</td>\n",
              "      <td>6.835748</td>\n",
              "      <td>28.284160</td>\n",
              "      <td>83.474860</td>\n",
              "      <td>5.866026</td>\n",
              "      <td>24.963061</td>\n",
              "      <td>70.642614</td>\n",
              "      <td>NaN</td>\n",
              "      <td>NaN</td>\n",
              "      <td>NaN</td>\n",
              "      <td>0.199994</td>\n",
              "      <td>0.481594</td>\n",
              "      <td>NaN</td>\n",
              "      <td>0.049060</td>\n",
              "      <td>57.411538</td>\n",
              "      <td>39.316957</td>\n",
              "      <td>...</td>\n",
              "      <td>3.001462</td>\n",
              "      <td>0.333333</td>\n",
              "      <td>2.964071</td>\n",
              "      <td>NaN</td>\n",
              "      <td>NaN</td>\n",
              "      <td>NaN</td>\n",
              "      <td>0.511310</td>\n",
              "      <td>2.404941</td>\n",
              "      <td>7.099814</td>\n",
              "      <td>1.888489</td>\n",
              "      <td>6.900079</td>\n",
              "      <td>2.120236</td>\n",
              "      <td>6.243305</td>\n",
              "      <td>1.28841</td>\n",
              "      <td>7.016523</td>\n",
              "      <td>6.684258</td>\n",
              "      <td>1.021435</td>\n",
              "      <td>2.524430</td>\n",
              "      <td>8.044576</td>\n",
              "      <td>2.368088</td>\n",
              "      <td>0.361929</td>\n",
              "      <td>0.838448</td>\n",
              "      <td>0.527484</td>\n",
              "      <td>1.703579e+06</td>\n",
              "      <td>0.278684</td>\n",
              "      <td>130.737644</td>\n",
              "      <td>4.098203</td>\n",
              "      <td>86.859659</td>\n",
              "      <td>67.460711</td>\n",
              "      <td>0.158001</td>\n",
              "      <td>4.932135e+07</td>\n",
              "      <td>NaN</td>\n",
              "      <td>4.853561e+06</td>\n",
              "      <td>NaN</td>\n",
              "      <td>1.280881</td>\n",
              "      <td>28.437426</td>\n",
              "      <td>4.552678</td>\n",
              "      <td>4.601334</td>\n",
              "      <td>0.657961</td>\n",
              "      <td>4.561017</td>\n",
              "    </tr>\n",
              "    <tr>\n",
              "      <th>min</th>\n",
              "      <td>1.970000e+11</td>\n",
              "      <td>1970.000000</td>\n",
              "      <td>0.000000</td>\n",
              "      <td>0.000000</td>\n",
              "      <td>0.000000</td>\n",
              "      <td>4.000000</td>\n",
              "      <td>1.000000</td>\n",
              "      <td>-45.867889</td>\n",
              "      <td>-157.818968</td>\n",
              "      <td>1.000000</td>\n",
              "      <td>0.000000</td>\n",
              "      <td>0.000000</td>\n",
              "      <td>0.000000</td>\n",
              "      <td>0.000000</td>\n",
              "      <td>-9.000000</td>\n",
              "      <td>1.000000</td>\n",
              "      <td>0.000000</td>\n",
              "      <td>0.000000</td>\n",
              "      <td>0.000000</td>\n",
              "      <td>1.000000</td>\n",
              "      <td>2.000000</td>\n",
              "      <td>2.000000</td>\n",
              "      <td>1.000000</td>\n",
              "      <td>1.000000</td>\n",
              "      <td>4.000000</td>\n",
              "      <td>1.000000</td>\n",
              "      <td>1.000000</td>\n",
              "      <td>11.000000</td>\n",
              "      <td>1.000000</td>\n",
              "      <td>8.000000</td>\n",
              "      <td>32.000000</td>\n",
              "      <td>NaN</td>\n",
              "      <td>NaN</td>\n",
              "      <td>NaN</td>\n",
              "      <td>0.000000</td>\n",
              "      <td>0.000000</td>\n",
              "      <td>NaN</td>\n",
              "      <td>0.000000</td>\n",
              "      <td>-99.000000</td>\n",
              "      <td>-99.000000</td>\n",
              "      <td>...</td>\n",
              "      <td>1.000000</td>\n",
              "      <td>0.000000</td>\n",
              "      <td>1.000000</td>\n",
              "      <td>NaN</td>\n",
              "      <td>NaN</td>\n",
              "      <td>NaN</td>\n",
              "      <td>0.000000</td>\n",
              "      <td>1.000000</td>\n",
              "      <td>1.000000</td>\n",
              "      <td>2.000000</td>\n",
              "      <td>2.000000</td>\n",
              "      <td>5.000000</td>\n",
              "      <td>2.000000</td>\n",
              "      <td>5.00000</td>\n",
              "      <td>2.000000</td>\n",
              "      <td>0.000000</td>\n",
              "      <td>0.000000</td>\n",
              "      <td>0.000000</td>\n",
              "      <td>0.000000</td>\n",
              "      <td>0.000000</td>\n",
              "      <td>0.000000</td>\n",
              "      <td>-9.000000</td>\n",
              "      <td>2.000000</td>\n",
              "      <td>-9.900000e+01</td>\n",
              "      <td>0.000000</td>\n",
              "      <td>-99.000000</td>\n",
              "      <td>-99.000000</td>\n",
              "      <td>-99.000000</td>\n",
              "      <td>0.000000</td>\n",
              "      <td>0.000000</td>\n",
              "      <td>0.000000e+00</td>\n",
              "      <td>20000.0</td>\n",
              "      <td>0.000000e+00</td>\n",
              "      <td>0.0</td>\n",
              "      <td>2.000000</td>\n",
              "      <td>-99.000000</td>\n",
              "      <td>-9.000000</td>\n",
              "      <td>-9.000000</td>\n",
              "      <td>-9.000000</td>\n",
              "      <td>-9.000000</td>\n",
              "    </tr>\n",
              "    <tr>\n",
              "      <th>25%</th>\n",
              "      <td>1.976092e+11</td>\n",
              "      <td>1976.000000</td>\n",
              "      <td>3.000000</td>\n",
              "      <td>7.000000</td>\n",
              "      <td>0.000000</td>\n",
              "      <td>69.000000</td>\n",
              "      <td>2.000000</td>\n",
              "      <td>13.692880</td>\n",
              "      <td>-86.600964</td>\n",
              "      <td>1.000000</td>\n",
              "      <td>0.000000</td>\n",
              "      <td>1.000000</td>\n",
              "      <td>1.000000</td>\n",
              "      <td>1.000000</td>\n",
              "      <td>0.000000</td>\n",
              "      <td>1.000000</td>\n",
              "      <td>0.000000</td>\n",
              "      <td>1.000000</td>\n",
              "      <td>0.000000</td>\n",
              "      <td>2.000000</td>\n",
              "      <td>2.000000</td>\n",
              "      <td>2.500000</td>\n",
              "      <td>2.000000</td>\n",
              "      <td>15.000000</td>\n",
              "      <td>69.000000</td>\n",
              "      <td>3.000000</td>\n",
              "      <td>25.000000</td>\n",
              "      <td>94.000000</td>\n",
              "      <td>3.000000</td>\n",
              "      <td>34.000000</td>\n",
              "      <td>83.000000</td>\n",
              "      <td>NaN</td>\n",
              "      <td>NaN</td>\n",
              "      <td>NaN</td>\n",
              "      <td>0.000000</td>\n",
              "      <td>0.000000</td>\n",
              "      <td>NaN</td>\n",
              "      <td>0.000000</td>\n",
              "      <td>1.000000</td>\n",
              "      <td>-99.000000</td>\n",
              "      <td>...</td>\n",
              "      <td>2.000000</td>\n",
              "      <td>1.000000</td>\n",
              "      <td>1.750000</td>\n",
              "      <td>NaN</td>\n",
              "      <td>NaN</td>\n",
              "      <td>NaN</td>\n",
              "      <td>0.000000</td>\n",
              "      <td>5.000000</td>\n",
              "      <td>3.000000</td>\n",
              "      <td>5.000000</td>\n",
              "      <td>3.000000</td>\n",
              "      <td>5.000000</td>\n",
              "      <td>3.000000</td>\n",
              "      <td>5.00000</td>\n",
              "      <td>2.000000</td>\n",
              "      <td>0.000000</td>\n",
              "      <td>0.000000</td>\n",
              "      <td>0.000000</td>\n",
              "      <td>0.000000</td>\n",
              "      <td>0.000000</td>\n",
              "      <td>0.000000</td>\n",
              "      <td>0.000000</td>\n",
              "      <td>3.000000</td>\n",
              "      <td>2.000000e+03</td>\n",
              "      <td>0.000000</td>\n",
              "      <td>1.000000</td>\n",
              "      <td>0.000000</td>\n",
              "      <td>0.000000</td>\n",
              "      <td>0.000000</td>\n",
              "      <td>0.000000</td>\n",
              "      <td>0.000000e+00</td>\n",
              "      <td>20000.0</td>\n",
              "      <td>0.000000e+00</td>\n",
              "      <td>0.0</td>\n",
              "      <td>2.000000</td>\n",
              "      <td>1.000000</td>\n",
              "      <td>-9.000000</td>\n",
              "      <td>-9.000000</td>\n",
              "      <td>0.000000</td>\n",
              "      <td>-9.000000</td>\n",
              "    </tr>\n",
              "    <tr>\n",
              "      <th>50%</th>\n",
              "      <td>1.979051e+11</td>\n",
              "      <td>1979.000000</td>\n",
              "      <td>6.000000</td>\n",
              "      <td>15.000000</td>\n",
              "      <td>0.000000</td>\n",
              "      <td>110.000000</td>\n",
              "      <td>8.000000</td>\n",
              "      <td>35.689125</td>\n",
              "      <td>-6.443767</td>\n",
              "      <td>1.000000</td>\n",
              "      <td>0.000000</td>\n",
              "      <td>1.000000</td>\n",
              "      <td>1.000000</td>\n",
              "      <td>1.000000</td>\n",
              "      <td>0.000000</td>\n",
              "      <td>1.000000</td>\n",
              "      <td>0.000000</td>\n",
              "      <td>1.000000</td>\n",
              "      <td>0.000000</td>\n",
              "      <td>3.000000</td>\n",
              "      <td>7.000000</td>\n",
              "      <td>3.000000</td>\n",
              "      <td>4.000000</td>\n",
              "      <td>29.000000</td>\n",
              "      <td>130.000000</td>\n",
              "      <td>8.000000</td>\n",
              "      <td>53.000000</td>\n",
              "      <td>216.000000</td>\n",
              "      <td>7.000000</td>\n",
              "      <td>53.000000</td>\n",
              "      <td>110.000000</td>\n",
              "      <td>NaN</td>\n",
              "      <td>NaN</td>\n",
              "      <td>NaN</td>\n",
              "      <td>0.000000</td>\n",
              "      <td>0.000000</td>\n",
              "      <td>NaN</td>\n",
              "      <td>0.000000</td>\n",
              "      <td>2.000000</td>\n",
              "      <td>-99.000000</td>\n",
              "      <td>...</td>\n",
              "      <td>5.000000</td>\n",
              "      <td>1.000000</td>\n",
              "      <td>2.000000</td>\n",
              "      <td>NaN</td>\n",
              "      <td>NaN</td>\n",
              "      <td>NaN</td>\n",
              "      <td>0.000000</td>\n",
              "      <td>6.000000</td>\n",
              "      <td>16.000000</td>\n",
              "      <td>6.000000</td>\n",
              "      <td>7.000000</td>\n",
              "      <td>5.000000</td>\n",
              "      <td>3.000000</td>\n",
              "      <td>6.00000</td>\n",
              "      <td>7.000000</td>\n",
              "      <td>0.000000</td>\n",
              "      <td>0.000000</td>\n",
              "      <td>0.000000</td>\n",
              "      <td>0.000000</td>\n",
              "      <td>0.000000</td>\n",
              "      <td>0.000000</td>\n",
              "      <td>1.000000</td>\n",
              "      <td>3.000000</td>\n",
              "      <td>7.000000e+03</td>\n",
              "      <td>0.000000</td>\n",
              "      <td>1.000000</td>\n",
              "      <td>0.000000</td>\n",
              "      <td>0.000000</td>\n",
              "      <td>3.000000</td>\n",
              "      <td>0.000000</td>\n",
              "      <td>0.000000e+00</td>\n",
              "      <td>20000.0</td>\n",
              "      <td>7.050000e+04</td>\n",
              "      <td>0.0</td>\n",
              "      <td>2.000000</td>\n",
              "      <td>1.000000</td>\n",
              "      <td>0.000000</td>\n",
              "      <td>0.000000</td>\n",
              "      <td>0.000000</td>\n",
              "      <td>0.000000</td>\n",
              "    </tr>\n",
              "    <tr>\n",
              "      <th>75%</th>\n",
              "      <td>1.980121e+11</td>\n",
              "      <td>1980.000000</td>\n",
              "      <td>9.000000</td>\n",
              "      <td>23.000000</td>\n",
              "      <td>0.000000</td>\n",
              "      <td>217.000000</td>\n",
              "      <td>8.000000</td>\n",
              "      <td>43.291618</td>\n",
              "      <td>9.991586</td>\n",
              "      <td>1.000000</td>\n",
              "      <td>0.000000</td>\n",
              "      <td>1.000000</td>\n",
              "      <td>1.000000</td>\n",
              "      <td>1.000000</td>\n",
              "      <td>0.000000</td>\n",
              "      <td>1.000000</td>\n",
              "      <td>0.000000</td>\n",
              "      <td>1.000000</td>\n",
              "      <td>0.000000</td>\n",
              "      <td>3.000000</td>\n",
              "      <td>7.000000</td>\n",
              "      <td>3.500000</td>\n",
              "      <td>14.000000</td>\n",
              "      <td>69.000000</td>\n",
              "      <td>216.000000</td>\n",
              "      <td>14.000000</td>\n",
              "      <td>69.000000</td>\n",
              "      <td>217.000000</td>\n",
              "      <td>14.000000</td>\n",
              "      <td>77.000000</td>\n",
              "      <td>216.000000</td>\n",
              "      <td>NaN</td>\n",
              "      <td>NaN</td>\n",
              "      <td>NaN</td>\n",
              "      <td>0.000000</td>\n",
              "      <td>1.000000</td>\n",
              "      <td>NaN</td>\n",
              "      <td>0.000000</td>\n",
              "      <td>5.000000</td>\n",
              "      <td>-99.000000</td>\n",
              "      <td>...</td>\n",
              "      <td>5.000000</td>\n",
              "      <td>1.000000</td>\n",
              "      <td>2.000000</td>\n",
              "      <td>NaN</td>\n",
              "      <td>NaN</td>\n",
              "      <td>NaN</td>\n",
              "      <td>1.000000</td>\n",
              "      <td>6.000000</td>\n",
              "      <td>16.000000</td>\n",
              "      <td>6.000000</td>\n",
              "      <td>16.000000</td>\n",
              "      <td>6.000000</td>\n",
              "      <td>10.000000</td>\n",
              "      <td>6.00000</td>\n",
              "      <td>16.000000</td>\n",
              "      <td>1.000000</td>\n",
              "      <td>0.000000</td>\n",
              "      <td>0.000000</td>\n",
              "      <td>0.000000</td>\n",
              "      <td>0.000000</td>\n",
              "      <td>0.000000</td>\n",
              "      <td>1.000000</td>\n",
              "      <td>4.000000</td>\n",
              "      <td>3.500000e+04</td>\n",
              "      <td>0.000000</td>\n",
              "      <td>2.000000</td>\n",
              "      <td>0.000000</td>\n",
              "      <td>0.000000</td>\n",
              "      <td>23.000000</td>\n",
              "      <td>0.000000</td>\n",
              "      <td>4.150000e+05</td>\n",
              "      <td>20000.0</td>\n",
              "      <td>7.250000e+05</td>\n",
              "      <td>0.0</td>\n",
              "      <td>4.000000</td>\n",
              "      <td>2.000000</td>\n",
              "      <td>0.000000</td>\n",
              "      <td>0.000000</td>\n",
              "      <td>1.000000</td>\n",
              "      <td>1.000000</td>\n",
              "    </tr>\n",
              "    <tr>\n",
              "      <th>max</th>\n",
              "      <td>1.982072e+11</td>\n",
              "      <td>1986.000000</td>\n",
              "      <td>12.000000</td>\n",
              "      <td>31.000000</td>\n",
              "      <td>1.000000</td>\n",
              "      <td>605.000000</td>\n",
              "      <td>12.000000</td>\n",
              "      <td>64.837778</td>\n",
              "      <td>172.636225</td>\n",
              "      <td>5.000000</td>\n",
              "      <td>1.000000</td>\n",
              "      <td>1.000000</td>\n",
              "      <td>1.000000</td>\n",
              "      <td>1.000000</td>\n",
              "      <td>1.000000</td>\n",
              "      <td>3.000000</td>\n",
              "      <td>1.000000</td>\n",
              "      <td>1.000000</td>\n",
              "      <td>1.000000</td>\n",
              "      <td>9.000000</td>\n",
              "      <td>7.000000</td>\n",
              "      <td>4.000000</td>\n",
              "      <td>22.000000</td>\n",
              "      <td>113.000000</td>\n",
              "      <td>999.000000</td>\n",
              "      <td>22.000000</td>\n",
              "      <td>108.000000</td>\n",
              "      <td>605.000000</td>\n",
              "      <td>22.000000</td>\n",
              "      <td>85.000000</td>\n",
              "      <td>233.000000</td>\n",
              "      <td>NaN</td>\n",
              "      <td>NaN</td>\n",
              "      <td>NaN</td>\n",
              "      <td>1.000000</td>\n",
              "      <td>1.000000</td>\n",
              "      <td>NaN</td>\n",
              "      <td>1.000000</td>\n",
              "      <td>1000.000000</td>\n",
              "      <td>26.000000</td>\n",
              "      <td>...</td>\n",
              "      <td>10.000000</td>\n",
              "      <td>1.000000</td>\n",
              "      <td>10.000000</td>\n",
              "      <td>NaN</td>\n",
              "      <td>NaN</td>\n",
              "      <td>NaN</td>\n",
              "      <td>1.000000</td>\n",
              "      <td>13.000000</td>\n",
              "      <td>31.000000</td>\n",
              "      <td>13.000000</td>\n",
              "      <td>28.000000</td>\n",
              "      <td>13.000000</td>\n",
              "      <td>23.000000</td>\n",
              "      <td>9.00000</td>\n",
              "      <td>23.000000</td>\n",
              "      <td>422.000000</td>\n",
              "      <td>30.000000</td>\n",
              "      <td>85.000000</td>\n",
              "      <td>300.000000</td>\n",
              "      <td>50.000000</td>\n",
              "      <td>5.000000</td>\n",
              "      <td>1.000000</td>\n",
              "      <td>4.000000</td>\n",
              "      <td>5.000000e+07</td>\n",
              "      <td>1.000000</td>\n",
              "      <td>4000.000000</td>\n",
              "      <td>70.000000</td>\n",
              "      <td>999.000000</td>\n",
              "      <td>752.000000</td>\n",
              "      <td>1.000000</td>\n",
              "      <td>1.000000e+09</td>\n",
              "      <td>20000.0</td>\n",
              "      <td>4.100000e+07</td>\n",
              "      <td>0.0</td>\n",
              "      <td>7.000000</td>\n",
              "      <td>215.000000</td>\n",
              "      <td>1.000000</td>\n",
              "      <td>1.000000</td>\n",
              "      <td>1.000000</td>\n",
              "      <td>1.000000</td>\n",
              "    </tr>\n",
              "  </tbody>\n",
              "</table>\n",
              "<p>8 rows × 81 columns</p>\n",
              "</div>"
            ],
            "text/plain": [
              "            eventid         iyear  ...      INT_MISC       INT_ANY\n",
              "count  1.658100e+04  16581.000000  ...  16580.000000  16580.000000\n",
              "mean   1.978029e+11   1977.966045  ...      0.263450     -2.668034\n",
              "std    3.266916e+08      3.270107  ...      0.657961      4.561017\n",
              "min    1.970000e+11   1970.000000  ...     -9.000000     -9.000000\n",
              "25%    1.976092e+11   1976.000000  ...      0.000000     -9.000000\n",
              "50%    1.979051e+11   1979.000000  ...      0.000000      0.000000\n",
              "75%    1.980121e+11   1980.000000  ...      1.000000      1.000000\n",
              "max    1.982072e+11   1986.000000  ...      1.000000      1.000000\n",
              "\n",
              "[8 rows x 81 columns]"
            ]
          },
          "metadata": {},
          "execution_count": 10
        }
      ]
    },
    {
      "cell_type": "markdown",
      "metadata": {
        "id": "wkAsfiKJJmIB"
      },
      "source": [
        "# **Now we will build a casualties column containing killed & wounded people**"
      ]
    },
    {
      "cell_type": "code",
      "metadata": {
        "id": "VYSr0N9jJpG8"
      },
      "source": [
        "df['nkill'] = df['nkill'].fillna(0)\n",
        "df['nwound'] = df['nwound'].fillna(0)\n",
        "df['casualties'] = df['nkill'] + df['nwound']"
      ],
      "execution_count": 11,
      "outputs": []
    },
    {
      "cell_type": "markdown",
      "metadata": {
        "id": "HfHlB7f3Jwhv"
      },
      "source": [
        "# **Now let's visualize the terrorism data**"
      ]
    },
    {
      "cell_type": "code",
      "metadata": {
        "id": "pn-mMeF5J0pV"
      },
      "source": [
        "import matplotlib.pyplot as plt\n",
        "import seaborn as sns"
      ],
      "execution_count": 12,
      "outputs": []
    },
    {
      "cell_type": "markdown",
      "metadata": {
        "id": "7vtZR574J4Ya"
      },
      "source": [
        "# **Graph of Terrorist Attacks from year 1970 to1991**"
      ]
    },
    {
      "cell_type": "code",
      "metadata": {
        "id": "j8OKnuE0J9lP"
      },
      "source": [
        "year = df['iyear'].unique()\n",
        "years_count = df['iyear'].value_counts(dropna=False).sort_index()"
      ],
      "execution_count": 13,
      "outputs": []
    },
    {
      "cell_type": "code",
      "metadata": {
        "id": "r0L9SbtFJ-N9",
        "colab": {
          "base_uri": "https://localhost:8080/",
          "height": 598
        },
        "outputId": "7ec91bed-87f4-429b-8d84-4c8099b94905"
      },
      "source": [
        "plt.figure(figsize=(9,9))\n",
        "sns.barplot(x=year,y=years_count, palette='tab10')\n",
        "plt.xticks(rotation = 90)\n",
        "plt.xlabel('Attacking Year', fontsize=20)\n",
        "plt.ylabel('Number of Attacks each Year', fontsize=20)\n",
        "plt.title('Attacks in Years', fontsize=22)\n",
        "plt.show()"
      ],
      "execution_count": 15,
      "outputs": [
        {
          "output_type": "display_data",
          "data": {
            "image/png": "[encoded data removed]",
            "text/plain": [
              "<Figure size 648x648 with 1 Axes>"
            ]
          },
          "metadata": {
            "needs_background": "light"
          }
        }
      ]
    },
    {
      "cell_type": "markdown",
      "metadata": {
        "id": "VZGs9wv9KIA9"
      },
      "source": [
        "# **These Graph shows the number of people killed in Terrorist Attacks**"
      ]
    },
    {
      "cell_type": "code",
      "metadata": {
        "id": "hBzyGG2-KLwO",
        "colab": {
          "base_uri": "https://localhost:8080/",
          "height": 601
        },
        "outputId": "2c6dd947-02f7-491f-920a-aca6a4689f28"
      },
      "source": [
        "Df = df[['iyear','nkill']].groupby(['iyear']).sum()\n",
        "fig, ax4 = plt.subplots(figsize=(9,9))\n",
        "Df.plot(kind='bar', alpha=0.7, ax=ax4, color='blue')\n",
        "plt.xticks(rotation = 90)\n",
        "plt.title('People died due to Attack', fontsize=25)\n",
        "plt.xlabel('Year', fontsize=20)\n",
        "plt.ylabel('Number of Killed People', fontsize=20)\n",
        "\n",
        "top_side = ax4.spines['top']\n",
        "top_side.set_visible(False)\n",
        "right_side = ax4.spines['right']\n",
        "right_side.set_visible(False)"
      ],
      "execution_count": 17,
      "outputs": [
        {
          "output_type": "display_data",
          "data": {
            "image/png": "[encoded data removed]",
            "text/plain": [
              "<Figure size 648x648 with 1 Axes>"
            ]
          },
          "metadata": {
            "needs_background": "light"
          }
        }
      ]
    },
    {
      "cell_type": "markdown",
      "metadata": {
        "id": "BFLAHjSFKOut"
      },
      "source": [
        "# **These Graph shows the number of Active Terrorist Groups**"
      ]
    },
    {
      "cell_type": "code",
      "metadata": {
        "id": "vB-bc2gCKSdl",
        "colab": {
          "base_uri": "https://localhost:8080/",
          "height": 821
        },
        "outputId": "80b478a5-7e01-4472-a030-c24d216aad13"
      },
      "source": [
        "df['gname'].value_counts().to_frame().drop('Unknown').head(10).plot(kind='bar',color='red',figsize=(9,9))\n",
        "plt.title('Top 10 Active Terrorist Groups', fontsize=25)\n",
        "plt.xlabel('Group Name ',fontsize=20)\n",
        "plt.ylabel('Attack Number ',fontsize=20)\n",
        "plt.show()"
      ],
      "execution_count": 19,
      "outputs": [
        {
          "output_type": "display_data",
          "data": {
            "image/png": "[encoded data removed]",
            "text/plain": [
              "<Figure size 648x648 with 1 Axes>"
            ]
          },
          "metadata": {
            "needs_background": "light"
          }
        }
      ]
    },
    {
      "cell_type": "markdown",
      "metadata": {
        "id": "0rHaKv7fKWOA"
      },
      "source": [
        "# **Graph of Top 10 Attacked Companies**"
      ]
    },
    {
      "cell_type": "code",
      "metadata": {
        "id": "ca_OCmTSKSys",
        "colab": {
          "base_uri": "https://localhost:8080/",
          "height": 672
        },
        "outputId": "925315ef-d008-44a3-e613-1a2e04021613"
      },
      "source": [
        "df['country_txt'].value_counts().to_frame().sort_values('country_txt',\n",
        "  axis=0,ascending=False).head(10).plot(kind='bar',color='gray',figsize=(9,9))\n",
        "plt.xticks(rotation=90)\n",
        "plt.xlabel('Attack Type ',fontsize=20)\n",
        "plt.ylabel('Number of Attack ',fontsize=20)\n",
        "plt.title('Name of Attack Type', fontsize=25)"
      ],
      "execution_count": 22,
      "outputs": [
        {
          "output_type": "execute_result",
          "data": {
            "text/plain": [
              "Text(0.5, 1.0, 'Name of Attack Type')"
            ]
          },
          "metadata": {},
          "execution_count": 22
        },
        {
          "output_type": "display_data",
          "data": {
            "image/png": "[encoded data removed]",
            "text/plain": [
              "<Figure size 648x648 with 1 Axes>"
            ]
          },
          "metadata": {
            "needs_background": "light"
          }
        }
      ]
    },
    {
      "cell_type": "markdown",
      "metadata": {
        "id": "Oi6l1Zd_Kdrv"
      },
      "source": [
        "# **Graph for types of attacks used by Terrorists**"
      ]
    },
    {
      "cell_type": "code",
      "metadata": {
        "id": "3rG33XmcKqeo",
        "colab": {
          "base_uri": "https://localhost:8080/",
          "height": 771
        },
        "outputId": "d22bc572-4635-41c6-d0de-bbf5e411afcf"
      },
      "source": [
        "df['attacktype1_txt'].value_counts().plot(kind='bar',\n",
        "   figsize=(9,9), color='orange')\n",
        "plt.xticks(rotation=90)\n",
        "plt.xlabel('Attack Type ',fontsize=20)\n",
        "plt.ylabel('Number of Attack ',fontsize=20)\n",
        "plt.title('Name of Attack Type', fontsize=25)"
      ],
      "execution_count": 24,
      "outputs": [
        {
          "output_type": "execute_result",
          "data": {
            "text/plain": [
              "Text(0.5, 1.0, 'Name of Attack Type')"
            ]
          },
          "metadata": {},
          "execution_count": 24
        },
        {
          "output_type": "display_data",
          "data": {
            "image/png": "[encoded data removed]",
            "text/plain": [
              "<Figure size 648x648 with 1 Axes>"
            ]
          },
          "metadata": {
            "needs_background": "light"
          }
        }
      ]
    },
    {
      "cell_type": "markdown",
      "metadata": {
        "id": "nMvfZJLrKtrH"
      },
      "source": [
        "# **Graph to show which sectors are most affected by Terrorist Attacks**"
      ]
    },
    {
      "cell_type": "code",
      "metadata": {
        "id": "PkRRxi78Kyac",
        "colab": {
          "base_uri": "https://localhost:8080/",
          "height": 790
        },
        "outputId": "055cdd8a-021a-4e8b-bd37-ffd8e3fbe5f6"
      },
      "source": [
        "plt.subplots(figsize=(16,9))\n",
        "sns.countplot(df['targtype1_txt'],order=df['targtype1_txt'].value_counts().index,\n",
        "    palette='gist_heat',edgecolor=sns.color_palette('Set2'))\n",
        "plt.xticks(rotation=90)\n",
        "plt.xlabel('Attacks on ',fontsize=20)\n",
        "plt.ylabel('Count ',fontsize=20)\n",
        "plt.title('Types of Attack', fontsize=25)"
      ],
      "execution_count": 26,
      "outputs": [
        {
          "output_type": "stream",
          "name": "stderr",
          "text": [
            "/usr/local/lib/python3.7/dist-packages/seaborn/_decorators.py:43: FutureWarning: Pass the following variable as a keyword arg: x. From version 0.12, the only valid positional argument will be `data`, and passing other arguments without an explicit keyword will result in an error or misinterpretation.\n",
            "  FutureWarning\n"
          ]
        },
        {
          "output_type": "execute_result",
          "data": {
            "text/plain": [
              "Text(0.5, 1.0, 'Types of Attack')"
            ]
          },
          "metadata": {},
          "execution_count": 26
        },
        {
          "output_type": "display_data",
          "data": {
            "image/png": "[encoded data removed]",
            "text/plain": [
              "<Figure size 1152x648 with 1 Axes>"
            ]
          },
          "metadata": {
            "needs_background": "light"
          }
        }
      ]
    },
    {
      "cell_type": "markdown",
      "metadata": {
        "id": "gkcPvEatKxw7"
      },
      "source": [
        "# **Total Number of People killed in Terrorist Attacks**"
      ]
    },
    {
      "cell_type": "code",
      "metadata": {
        "id": "So0oEsP5K8c8",
        "colab": {
          "base_uri": "https://localhost:8080/"
        },
        "outputId": "6ea19d88-2ff7-45e9-d3c5-196ee9d6eee4"
      },
      "source": [
        "kill = df.loc[:, 'nkill']\n",
        "print('Total Number of People killed in Terrorist Attacks: ', int(sum(kill.dropna())))"
      ],
      "execution_count": 27,
      "outputs": [
        {
          "output_type": "stream",
          "name": "stdout",
          "text": [
            "Total Number of People killed in Terrorist Attacks:  19367\n"
          ]
        }
      ]
    },
    {
      "cell_type": "markdown",
      "metadata": {
        "id": "h9sUHdUuLAPZ"
      },
      "source": [
        "# **Different types of Terrorist Attacks**"
      ]
    },
    {
      "cell_type": "code",
      "metadata": {
        "id": "KAUydO42LD97",
        "colab": {
          "base_uri": "https://localhost:8080/"
        },
        "outputId": "3eb7de06-d9e8-4ae5-87b1-e691cc57f293"
      },
      "source": [
        "df1 = df.pivot_table(columns='attacktype1_txt', values='nkill',aggfunc='sum')\n",
        "print(df)"
      ],
      "execution_count": 28,
      "outputs": [
        {
          "output_type": "stream",
          "name": "stdout",
          "text": [
            "            eventid  iyear  imonth  iday  ... INT_MISC  INT_ANY related  casualties\n",
            "0      197000000001   1970       7     2  ...      0.0      0.0     NaN         1.0\n",
            "1      197000000002   1970       0     0  ...      1.0      1.0     NaN         0.0\n",
            "2      197001000001   1970       1     0  ...      1.0      1.0     NaN         1.0\n",
            "3      197001000002   1970       1     0  ...      1.0      1.0     NaN         0.0\n",
            "4      197001000003   1970       1     0  ...      1.0      1.0     NaN         0.0\n",
            "...             ...    ...     ...   ...  ...      ...      ...     ...         ...\n",
            "16576  198207150003   1982       7    15  ...      1.0      1.0     NaN         0.0\n",
            "16577  198207150004   1982       7    15  ...      0.0     -9.0     NaN         0.0\n",
            "16578  198207150005   1982       7    15  ...      0.0      0.0     NaN         2.0\n",
            "16579  198207150006   1982       7    15  ...      0.0     -9.0     NaN         1.0\n",
            "16580  198207160001   1982       7    16  ...      NaN      NaN     NaN         0.0\n",
            "\n",
            "[16581 rows x 136 columns]\n"
          ]
        }
      ]
    },
    {
      "cell_type": "markdown",
      "metadata": {
        "id": "EZWZWAD9LGoU"
      },
      "source": [
        "# **People Killed based on countries**"
      ]
    },
    {
      "cell_type": "code",
      "metadata": {
        "id": "9vjvjqRJLIs5",
        "colab": {
          "base_uri": "https://localhost:8080/"
        },
        "outputId": "8f1ba15d-cfda-458e-95ca-93d210394fc8"
      },
      "source": [
        "df2 = df.pivot_table(columns='country', values='nkill', aggfunc='sum')\n",
        "print(df2)"
      ],
      "execution_count": 29,
      "outputs": [
        {
          "output_type": "stream",
          "name": "stdout",
          "text": [
            "country   4    5    6    7     8      11   ...   428  499  532     603  604   605\n",
            "nkill    53.0  0.0  0.0  0.0  22.0  329.0  ...  81.0  1.0  0.0  1964.0  1.0  15.0\n",
            "\n",
            "[1 rows x 124 columns]\n"
          ]
        }
      ]
    },
    {
      "cell_type": "markdown",
      "metadata": {
        "id": "PZ6ZczcCLMMY"
      },
      "source": [
        "# **Top 10 terrorist groups**"
      ]
    },
    {
      "cell_type": "code",
      "metadata": {
        "id": "iOELZHexLQVa",
        "colab": {
          "base_uri": "https://localhost:8080/"
        },
        "outputId": "f23d9e75-5ccc-4b86-960c-66fdc3cc87fb"
      },
      "source": [
        "df.gname.value_counts()[1:11]"
      ],
      "execution_count": 30,
      "outputs": [
        {
          "output_type": "execute_result",
          "data": {
            "text/plain": [
              "Irish Republican Army (IRA)                         1259\n",
              "Basque Fatherland and Freedom (ETA)                  671\n",
              "Farabundo Marti National Liberation Front (FMLN)     389\n",
              "Palestinians                                         338\n",
              "Revolutionary Armed Forces of Colombia (FARC)        232\n",
              "M-19 (Movement of April 19)                          220\n",
              "Protestant extremists                                211\n",
              "Red Brigades                                         207\n",
              "Shining Path (SL)                                    199\n",
              "Sandinista National Liberation Front (FSLN)          197\n",
              "Name: gname, dtype: int64"
            ]
          },
          "metadata": {},
          "execution_count": 30
        }
      ]
    },
    {
      "cell_type": "markdown",
      "metadata": {
        "id": "7Hi4daO3LRFR"
      },
      "source": [
        "# **Result:**\n",
        "---\n",
        "Highest Number of Attacks took place between **1983 & 1989** with over **4000** attacks.\n",
        "\n",
        "**Shining Path(SL)** is the most active terrorist group. **Farabundo Marti National Liberation Front (FMLN)** is yet another active group which is mostly active with **(SL)**.\n",
        "\n",
        "Highest number of Terrorist attacks took place in **Peru** with **El Salvador** in the second place.\n",
        "\n",
        "Most frequent attack types were **Bombing/Explosion & Armed Assault**.\n",
        "\n",
        "Most affected areas by Terrorist Attacks are **Buisness & Private Citizens & Military & Government**.\n"
      ]
    }
  ]
}